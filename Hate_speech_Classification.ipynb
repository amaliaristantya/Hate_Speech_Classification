{
  "nbformat": 4,
  "nbformat_minor": 0,
  "metadata": {
    "kernelspec": {
      "display_name": "Python 3",
      "language": "python",
      "name": "python3"
    },
    "language_info": {
      "codemirror_mode": {
        "name": "ipython",
        "version": 3
      },
      "file_extension": ".py",
      "mimetype": "text/x-python",
      "name": "python",
      "nbconvert_exporter": "python",
      "pygments_lexer": "ipython3",
      "version": "3.6.7"
    },
    "colab": {
      "name": "Hate_speech_Classification.ipynb",
      "provenance": [],
      "toc_visible": true,
      "include_colab_link": true
    }
  },
  "cells": [
    {
      "cell_type": "markdown",
      "metadata": {
        "id": "view-in-github",
        "colab_type": "text"
      },
      "source": [
        "<a href=\"https://colab.research.google.com/github/amaliaristantya/Hate_Speech_Classification/blob/main/Hate_speech_Classification.ipynb\" target=\"_parent\"><img src=\"https://colab.research.google.com/assets/colab-badge.svg\" alt=\"Open In Colab\"/></a>"
      ]
    },
    {
      "cell_type": "markdown",
      "metadata": {
        "id": "-AwFKdQj3f-_"
      },
      "source": [
        "# Classifying Hate Speech (Indonesia)\n",
        "\n",
        "\n"
      ]
    },
    {
      "cell_type": "markdown",
      "metadata": {
        "id": "ZjRLP0ox3f-_"
      },
      "source": [
        "Tujuan dari project ini adalah untuk membangun model yang memungkinkan kita mendeteksi perkataan yang mendorong ujaran kebencian/ hate speech. Dalam hal ini, sebuah tweet diklasifikasikan menjadi 2 target yaitu Non_HS (tidak mengandung hate speech) dan HS(mengandung hate speech)\n",
        "\n",
        "* Source Dataset :https://github.com/ialfina/id-hatespeech-detection\n",
        "\n",
        "* Source Code : https://github.com/GTOhhhhh/twitter_sentiment_analysis"
      ]
    },
    {
      "cell_type": "markdown",
      "metadata": {
        "id": "OrhIXngo3f-_"
      },
      "source": [
        "## Section 1: Setup ##\n",
        "\n",
        "Dataset yang digunakan yaitu terdiri dari 713 tweets berbahasa indonesia yang mempunyai label. Label tersebut terdiri dari 2 label yang telah di encode menjadi numeric. label Non_HS = 1 dan label HS = 0"
      ]
    },
    {
      "cell_type": "code",
      "metadata": {
        "id": "T827BPN93f_A"
      },
      "source": [
        "import pandas as pd\n",
        "import numpy as np\n",
        "import nltk\n",
        "from textblob import Word\n"
      ],
      "execution_count": 1,
      "outputs": []
    },
    {
      "cell_type": "code",
      "metadata": {
        "colab": {
          "base_uri": "https://localhost:8080/",
          "height": 221
        },
        "id": "B5fqiEvQ4g7G",
        "outputId": "da4a0607-3e9d-4627-d042-4536030bdfdf"
      },
      "source": [
        "df = pd.read_csv('https://raw.githubusercontent.com/amaliaristantya/Hate_Speech_Classification/main/dataset_Hatespeech_Indo.csv')\n",
        "\n",
        "print(df.shape)\n",
        "df.head()"
      ],
      "execution_count": 8,
      "outputs": [
        {
          "output_type": "stream",
          "text": [
            "(713, 2)\n"
          ],
          "name": "stdout"
        },
        {
          "output_type": "execute_result",
          "data": {
            "text/html": [
              "<div>\n",
              "<style scoped>\n",
              "    .dataframe tbody tr th:only-of-type {\n",
              "        vertical-align: middle;\n",
              "    }\n",
              "\n",
              "    .dataframe tbody tr th {\n",
              "        vertical-align: top;\n",
              "    }\n",
              "\n",
              "    .dataframe thead th {\n",
              "        text-align: right;\n",
              "    }\n",
              "</style>\n",
              "<table border=\"1\" class=\"dataframe\">\n",
              "  <thead>\n",
              "    <tr style=\"text-align: right;\">\n",
              "      <th></th>\n",
              "      <th>Label</th>\n",
              "      <th>Tweet</th>\n",
              "    </tr>\n",
              "  </thead>\n",
              "  <tbody>\n",
              "    <tr>\n",
              "      <th>0</th>\n",
              "      <td>Non_HS</td>\n",
              "      <td>RT @spardaxyz: Fadli Zon Minta Mendagri Segera...</td>\n",
              "    </tr>\n",
              "    <tr>\n",
              "      <th>1</th>\n",
              "      <td>Non_HS</td>\n",
              "      <td>RT @baguscondromowo: Mereka terus melukai aksi...</td>\n",
              "    </tr>\n",
              "    <tr>\n",
              "      <th>2</th>\n",
              "      <td>Non_HS</td>\n",
              "      <td>Sylvi: bagaimana gurbernur melakukan kekerasan...</td>\n",
              "    </tr>\n",
              "    <tr>\n",
              "      <th>3</th>\n",
              "      <td>Non_HS</td>\n",
              "      <td>Ahmad Dhani Tak Puas Debat Pilkada, Masalah Ja...</td>\n",
              "    </tr>\n",
              "    <tr>\n",
              "      <th>4</th>\n",
              "      <td>Non_HS</td>\n",
              "      <td>RT @lisdaulay28: Waspada KTP palsu.....kawal P...</td>\n",
              "    </tr>\n",
              "  </tbody>\n",
              "</table>\n",
              "</div>"
            ],
            "text/plain": [
              "    Label                                              Tweet\n",
              "0  Non_HS  RT @spardaxyz: Fadli Zon Minta Mendagri Segera...\n",
              "1  Non_HS  RT @baguscondromowo: Mereka terus melukai aksi...\n",
              "2  Non_HS  Sylvi: bagaimana gurbernur melakukan kekerasan...\n",
              "3  Non_HS  Ahmad Dhani Tak Puas Debat Pilkada, Masalah Ja...\n",
              "4  Non_HS  RT @lisdaulay28: Waspada KTP palsu.....kawal P..."
            ]
          },
          "metadata": {
            "tags": []
          },
          "execution_count": 8
        }
      ]
    },
    {
      "cell_type": "code",
      "metadata": {
        "colab": {
          "base_uri": "https://localhost:8080/"
        },
        "id": "jT6zeHwL_RdP",
        "outputId": "c20d1008-1cf5-450a-d71c-89ac3e7864fe"
      },
      "source": [
        "df.info()"
      ],
      "execution_count": 9,
      "outputs": [
        {
          "output_type": "stream",
          "text": [
            "<class 'pandas.core.frame.DataFrame'>\n",
            "RangeIndex: 713 entries, 0 to 712\n",
            "Data columns (total 2 columns):\n",
            " #   Column  Non-Null Count  Dtype \n",
            "---  ------  --------------  ----- \n",
            " 0   Label   713 non-null    object\n",
            " 1   Tweet   713 non-null    object\n",
            "dtypes: object(2)\n",
            "memory usage: 11.3+ KB\n"
          ],
          "name": "stdout"
        }
      ]
    },
    {
      "cell_type": "code",
      "metadata": {
        "colab": {
          "base_uri": "https://localhost:8080/",
          "height": 204
        },
        "id": "aGUQDDjP6Lm5",
        "outputId": "e759fb51-9cd5-4b89-b21e-0edcea1ebf71"
      },
      "source": [
        "#rename head of Dataset \n",
        "df.rename(index=str, columns={'Label': 'label',\n",
        "                              'Tweet': 'tweet'}, inplace=True)\n",
        "df.head()"
      ],
      "execution_count": 10,
      "outputs": [
        {
          "output_type": "execute_result",
          "data": {
            "text/html": [
              "<div>\n",
              "<style scoped>\n",
              "    .dataframe tbody tr th:only-of-type {\n",
              "        vertical-align: middle;\n",
              "    }\n",
              "\n",
              "    .dataframe tbody tr th {\n",
              "        vertical-align: top;\n",
              "    }\n",
              "\n",
              "    .dataframe thead th {\n",
              "        text-align: right;\n",
              "    }\n",
              "</style>\n",
              "<table border=\"1\" class=\"dataframe\">\n",
              "  <thead>\n",
              "    <tr style=\"text-align: right;\">\n",
              "      <th></th>\n",
              "      <th>label</th>\n",
              "      <th>tweet</th>\n",
              "    </tr>\n",
              "  </thead>\n",
              "  <tbody>\n",
              "    <tr>\n",
              "      <th>0</th>\n",
              "      <td>Non_HS</td>\n",
              "      <td>RT @spardaxyz: Fadli Zon Minta Mendagri Segera...</td>\n",
              "    </tr>\n",
              "    <tr>\n",
              "      <th>1</th>\n",
              "      <td>Non_HS</td>\n",
              "      <td>RT @baguscondromowo: Mereka terus melukai aksi...</td>\n",
              "    </tr>\n",
              "    <tr>\n",
              "      <th>2</th>\n",
              "      <td>Non_HS</td>\n",
              "      <td>Sylvi: bagaimana gurbernur melakukan kekerasan...</td>\n",
              "    </tr>\n",
              "    <tr>\n",
              "      <th>3</th>\n",
              "      <td>Non_HS</td>\n",
              "      <td>Ahmad Dhani Tak Puas Debat Pilkada, Masalah Ja...</td>\n",
              "    </tr>\n",
              "    <tr>\n",
              "      <th>4</th>\n",
              "      <td>Non_HS</td>\n",
              "      <td>RT @lisdaulay28: Waspada KTP palsu.....kawal P...</td>\n",
              "    </tr>\n",
              "  </tbody>\n",
              "</table>\n",
              "</div>"
            ],
            "text/plain": [
              "    label                                              tweet\n",
              "0  Non_HS  RT @spardaxyz: Fadli Zon Minta Mendagri Segera...\n",
              "1  Non_HS  RT @baguscondromowo: Mereka terus melukai aksi...\n",
              "2  Non_HS  Sylvi: bagaimana gurbernur melakukan kekerasan...\n",
              "3  Non_HS  Ahmad Dhani Tak Puas Debat Pilkada, Masalah Ja...\n",
              "4  Non_HS  RT @lisdaulay28: Waspada KTP palsu.....kawal P..."
            ]
          },
          "metadata": {
            "tags": []
          },
          "execution_count": 10
        }
      ]
    },
    {
      "cell_type": "code",
      "metadata": {
        "colab": {
          "base_uri": "https://localhost:8080/",
          "height": 419
        },
        "id": "1snq8HdcDG94",
        "outputId": "d09eab90-a3bf-46f3-c3c2-a5c066ae0f3f"
      },
      "source": [
        "# Replace Churn Values\n",
        "df['label'].replace(['Non_HS','HS'],[0,1],inplace=True)\n",
        "\n",
        "# Show Data\n",
        "df"
      ],
      "execution_count": 11,
      "outputs": [
        {
          "output_type": "execute_result",
          "data": {
            "text/html": [
              "<div>\n",
              "<style scoped>\n",
              "    .dataframe tbody tr th:only-of-type {\n",
              "        vertical-align: middle;\n",
              "    }\n",
              "\n",
              "    .dataframe tbody tr th {\n",
              "        vertical-align: top;\n",
              "    }\n",
              "\n",
              "    .dataframe thead th {\n",
              "        text-align: right;\n",
              "    }\n",
              "</style>\n",
              "<table border=\"1\" class=\"dataframe\">\n",
              "  <thead>\n",
              "    <tr style=\"text-align: right;\">\n",
              "      <th></th>\n",
              "      <th>label</th>\n",
              "      <th>tweet</th>\n",
              "    </tr>\n",
              "  </thead>\n",
              "  <tbody>\n",
              "    <tr>\n",
              "      <th>0</th>\n",
              "      <td>0</td>\n",
              "      <td>RT @spardaxyz: Fadli Zon Minta Mendagri Segera...</td>\n",
              "    </tr>\n",
              "    <tr>\n",
              "      <th>1</th>\n",
              "      <td>0</td>\n",
              "      <td>RT @baguscondromowo: Mereka terus melukai aksi...</td>\n",
              "    </tr>\n",
              "    <tr>\n",
              "      <th>2</th>\n",
              "      <td>0</td>\n",
              "      <td>Sylvi: bagaimana gurbernur melakukan kekerasan...</td>\n",
              "    </tr>\n",
              "    <tr>\n",
              "      <th>3</th>\n",
              "      <td>0</td>\n",
              "      <td>Ahmad Dhani Tak Puas Debat Pilkada, Masalah Ja...</td>\n",
              "    </tr>\n",
              "    <tr>\n",
              "      <th>4</th>\n",
              "      <td>0</td>\n",
              "      <td>RT @lisdaulay28: Waspada KTP palsu.....kawal P...</td>\n",
              "    </tr>\n",
              "    <tr>\n",
              "      <th>...</th>\n",
              "      <td>...</td>\n",
              "      <td>...</td>\n",
              "    </tr>\n",
              "    <tr>\n",
              "      <th>708</th>\n",
              "      <td>1</td>\n",
              "      <td>Muka Si BABi Ahok Tuh Yg Mirip SERBET Lantai.....</td>\n",
              "    </tr>\n",
              "    <tr>\n",
              "      <th>709</th>\n",
              "      <td>1</td>\n",
              "      <td>Betul bang hancurkan merka bang, musnahkan chi...</td>\n",
              "    </tr>\n",
              "    <tr>\n",
              "      <th>710</th>\n",
              "      <td>1</td>\n",
              "      <td>Sapa Yg bilang Ahok anti korupsi!?, klo grombo...</td>\n",
              "    </tr>\n",
              "    <tr>\n",
              "      <th>711</th>\n",
              "      <td>1</td>\n",
              "      <td>Gw juga ngimpi SENTILIN BIJI BABI AHOK, pcetar...</td>\n",
              "    </tr>\n",
              "    <tr>\n",
              "      <th>712</th>\n",
              "      <td>1</td>\n",
              "      <td>Mudah2an gw ketemu sama SI BABI IWAN BOPENG DI...</td>\n",
              "    </tr>\n",
              "  </tbody>\n",
              "</table>\n",
              "<p>713 rows × 2 columns</p>\n",
              "</div>"
            ],
            "text/plain": [
              "     label                                              tweet\n",
              "0        0  RT @spardaxyz: Fadli Zon Minta Mendagri Segera...\n",
              "1        0  RT @baguscondromowo: Mereka terus melukai aksi...\n",
              "2        0  Sylvi: bagaimana gurbernur melakukan kekerasan...\n",
              "3        0  Ahmad Dhani Tak Puas Debat Pilkada, Masalah Ja...\n",
              "4        0  RT @lisdaulay28: Waspada KTP palsu.....kawal P...\n",
              "..     ...                                                ...\n",
              "708      1  Muka Si BABi Ahok Tuh Yg Mirip SERBET Lantai.....\n",
              "709      1  Betul bang hancurkan merka bang, musnahkan chi...\n",
              "710      1  Sapa Yg bilang Ahok anti korupsi!?, klo grombo...\n",
              "711      1  Gw juga ngimpi SENTILIN BIJI BABI AHOK, pcetar...\n",
              "712      1  Mudah2an gw ketemu sama SI BABI IWAN BOPENG DI...\n",
              "\n",
              "[713 rows x 2 columns]"
            ]
          },
          "metadata": {
            "tags": []
          },
          "execution_count": 11
        }
      ]
    },
    {
      "cell_type": "code",
      "metadata": {
        "colab": {
          "base_uri": "https://localhost:8080/"
        },
        "id": "SES6fjxv3f_C",
        "outputId": "1bd50187-c66d-4f13-c896-3b9a10e9a1db"
      },
      "source": [
        "df.shape"
      ],
      "execution_count": 12,
      "outputs": [
        {
          "output_type": "execute_result",
          "data": {
            "text/plain": [
              "(713, 2)"
            ]
          },
          "metadata": {
            "tags": []
          },
          "execution_count": 12
        }
      ]
    },
    {
      "cell_type": "markdown",
      "metadata": {
        "id": "_cK5ArBU3f_D"
      },
      "source": [
        "Tahap Preprocessing : \n",
        "\n",
        "- transform all tweet text to be lower case\n",
        "- remove punctuation\n",
        "- clean white space\n",
        "- remove urls\n",
        "- lemmatization"
      ]
    },
    {
      "cell_type": "code",
      "metadata": {
        "colab": {
          "base_uri": "https://localhost:8080/",
          "height": 238
        },
        "id": "7VORanfe3f_D",
        "outputId": "3ba44c6e-171e-4bb2-972b-c28a1d8ca325"
      },
      "source": [
        "# transform to lower case\n",
        "df.tweet = df.tweet.apply(lambda x: \" \".join(x.lower() for x in x.split()))\n",
        "df.tweet.head()\n",
        "\n",
        "# remove punctuation\n",
        "df.tweet = df.tweet.str.replace('[^\\w\\s]','')\n",
        "\n",
        "# remove urls\n",
        "df.tweet = df.tweet.str.replace(r'http[\\w:/\\.]+','') \n",
        "\n",
        "df.tweet = df.tweet.str.replace(r'\\.\\.+','.') #replace multple periods with a single one\n",
        "df.tweet = df.tweet.str.replace(r'\\.',' .')   #replace multple periods with a single one\n",
        "df.tweet = df.tweet.str.replace(r'\\s\\s+',' ') #replace multple white space with a single one\n",
        "\n",
        "\n",
        "# lemmatization\n",
        "import nltk\n",
        "nltk.download('wordnet')\n",
        "df.tweet = df.tweet.apply(lambda x: \" \".join([Word(word).lemmatize() for word in x.split()]))\n",
        "df.tweet = df.tweet.str.strip() \n",
        "df.head()\n"
      ],
      "execution_count": 13,
      "outputs": [
        {
          "output_type": "stream",
          "text": [
            "[nltk_data] Downloading package wordnet to /root/nltk_data...\n",
            "[nltk_data]   Unzipping corpora/wordnet.zip.\n"
          ],
          "name": "stdout"
        },
        {
          "output_type": "execute_result",
          "data": {
            "text/html": [
              "<div>\n",
              "<style scoped>\n",
              "    .dataframe tbody tr th:only-of-type {\n",
              "        vertical-align: middle;\n",
              "    }\n",
              "\n",
              "    .dataframe tbody tr th {\n",
              "        vertical-align: top;\n",
              "    }\n",
              "\n",
              "    .dataframe thead th {\n",
              "        text-align: right;\n",
              "    }\n",
              "</style>\n",
              "<table border=\"1\" class=\"dataframe\">\n",
              "  <thead>\n",
              "    <tr style=\"text-align: right;\">\n",
              "      <th></th>\n",
              "      <th>label</th>\n",
              "      <th>tweet</th>\n",
              "    </tr>\n",
              "  </thead>\n",
              "  <tbody>\n",
              "    <tr>\n",
              "      <th>0</th>\n",
              "      <td>0</td>\n",
              "      <td>rt spardaxyz fadli zon minta mendagri segera m...</td>\n",
              "    </tr>\n",
              "    <tr>\n",
              "      <th>1</th>\n",
              "      <td>0</td>\n",
              "      <td>rt baguscondromowo mereka terus melukai aksi d...</td>\n",
              "    </tr>\n",
              "    <tr>\n",
              "      <th>2</th>\n",
              "      <td>0</td>\n",
              "      <td>sylvi bagaimana gurbernur melakukan kekerasan ...</td>\n",
              "    </tr>\n",
              "    <tr>\n",
              "      <th>3</th>\n",
              "      <td>0</td>\n",
              "      <td>ahmad dhani tak puas debat pilkada masalah jal...</td>\n",
              "    </tr>\n",
              "    <tr>\n",
              "      <th>4</th>\n",
              "      <td>0</td>\n",
              "      <td>rt lisdaulay28 waspada ktp palsukawal pilkada</td>\n",
              "    </tr>\n",
              "  </tbody>\n",
              "</table>\n",
              "</div>"
            ],
            "text/plain": [
              "   label                                              tweet\n",
              "0      0  rt spardaxyz fadli zon minta mendagri segera m...\n",
              "1      0  rt baguscondromowo mereka terus melukai aksi d...\n",
              "2      0  sylvi bagaimana gurbernur melakukan kekerasan ...\n",
              "3      0  ahmad dhani tak puas debat pilkada masalah jal...\n",
              "4      0      rt lisdaulay28 waspada ktp palsukawal pilkada"
            ]
          },
          "metadata": {
            "tags": []
          },
          "execution_count": 13
        }
      ]
    },
    {
      "cell_type": "markdown",
      "metadata": {
        "id": "Ke54Uij_3f_D"
      },
      "source": [
        "Untuk mengukur model klasifikasi, maka digunakan  matrik sebagai berikut :\n",
        "\n",
        "**True Positives (TP)** - Ini adalah nilai positif yang diprediksi dengan benar yang berarti nilai kelas sebenarnya adalah HS dan nilai kelas yang diprediksi juga adalah HS.\n",
        "\n",
        "**True Negatives (TN)** -  Ini adalah nilai negatif yang diprediksi dengan benar yang berarti nilai kelas sebenarnya adalah Non_HS dan nilai kelas yang diprediksi juga Non_HS.\n",
        "\n",
        "**False Positives (FP)** – Ketika kelas sebenarnya adalah Non_HS dan kelas yang diprediksi adalah HS.\n",
        "\n",
        "**False Negatives (FN)** – Jika kelas sebenarnya adalah HS, tetapi kelas yang diprediksi dalam Non_HS.\n",
        "\n",
        "**Precision** = TP/TP+FP\n",
        "\n",
        "**Recall** = TP/TP+FN\n",
        "\n",
        "**F1 Score** = 2*(Recall * Precision) / (Recall + Precision)\n",
        "http://scikit-learn.org/stable/modules/generated/sklearn.metrics.f1_score.html\n",
        "\n",
        "![title](https://upload.wikimedia.org/wikipedia/commons/thumb/2/26/Precisionrecall.svg/350px-Precisionrecall.svg.png) \n",
        "\n",
        "https://en.wikipedia.org/wiki/F1_score\n"
      ]
    },
    {
      "cell_type": "markdown",
      "metadata": {
        "id": "kKUiUIwX3f_D"
      },
      "source": [
        "## Section 2: Approach ##\n",
        "Pada Tahap 1 project analisis sentimen kami, kami membangun model sederhana dengan menghitung frekuensi setiap kata yang muncul di setiap tweet. Ini dikenal sebagai metode 'bag-of-words' (BoW) di dalam Natural Language rocessing (NLP). Kita dapat menganggap bag-of-words mewakili setiap tweet sebagai multiset, atau sebagai alternatif sebagai vektor. Meskipun fitur ini relatif sederhana untuk diekstrak, untuk tahap 2 kami akan menggunakan pendekatan yang lebih canggih menggunakan jenis Recurring Neural Net (RNN) tertentu yang dikenal sebagai Long Short Term Memory network (LSTM).\n",
        "\n",
        "Dibandingkan dengan pendekatan 'bag-of-words', model LSTM dapat mempertimbangkan struktur kalimat. Jika metode BoW hanya mempertimbangkan berapa kali kata tertentu muncul dalam tweet, model LSTM dapat memperhitungkan urutan kata melalui penggunaan chain seperti struktur cell states\n",
        "\n",
        "<br><br>\n",
        "![The repeating module in an LSTM contains four interacting layers.](http://colah.github.io/posts/2015-08-Understanding-LSTMs/img/LSTM3-chain.png)\n",
        "<br>\n",
        "<center><b> The repeating module of a simple unrolled LSTM containing four interacting layers.</b></center>\n",
        "<br>\n",
        "\n",
        "Ketika jaringan menemukan informasi baru, lapisan-lapisan ini memutuskan berapa banyak informasi yang dibawa ke depan atau dibiarkan, dan berapa banyak yang ditambahkan. Setiap sel LSTM mengambil vektor masukan dan vektor keluaran tersembunyi dari sel sebelumnya dan menghasilkan vektor keluaran dan vektor keluaran tersembunyi untuk sel berikutnya "
      ]
    },
    {
      "cell_type": "markdown",
      "metadata": {
        "id": "I4qCpxsW3f_D"
      },
      "source": [
        "#### Using multiple models for binary classification\n",
        "Kami akan melakukan tolok ukur model LSTM ini terhadap model yang menggunakan Multinomial Naive Bayes Dengan Vektor Tf-Idf, serta model Support Vector Machine (SVM) dengan bobot kelas yang seimbang."
      ]
    },
    {
      "cell_type": "code",
      "metadata": {
        "id": "hUtZZQvc3f_D"
      },
      "source": [
        "%matplotlib inline\n",
        "import matplotlib.pyplot as plt\n",
        "import re\n",
        "\n",
        "from keras.models import Sequential\n",
        "from keras.layers import Activation, Dropout, Flatten, Dense, BatchNormalization, LSTM, Embedding, Reshape\n",
        "from keras.models import load_model, model_from_json\n",
        "\n",
        "from sklearn.model_selection import train_test_split\n",
        "\n",
        "import os\n",
        "import urllib\n",
        "\n",
        "from collections import Counter"
      ],
      "execution_count": 14,
      "outputs": []
    },
    {
      "cell_type": "markdown",
      "metadata": {
        "id": "mxcp5IqY3f_D"
      },
      "source": [
        "https://stackoverflow.com/questions/43034960/many-to-one-and-many-to-many-lstm-examples-in-keras"
      ]
    },
    {
      "cell_type": "code",
      "metadata": {
        "colab": {
          "base_uri": "https://localhost:8080/",
          "height": 35
        },
        "id": "Sq0GNugL3f_D",
        "outputId": "a11e84c2-b56c-481b-ee96-ad1c4f9f12fa"
      },
      "source": [
        "df.tweet.values[0]"
      ],
      "execution_count": 15,
      "outputs": [
        {
          "output_type": "execute_result",
          "data": {
            "application/vnd.google.colaboratory.intrinsic+json": {
              "type": "string"
            },
            "text/plain": [
              "'rt spardaxyz fadli zon minta mendagri segera menonaktifkan ahok jadi gubernur dki'"
            ]
          },
          "metadata": {
            "tags": []
          },
          "execution_count": 15
        }
      ]
    },
    {
      "cell_type": "markdown",
      "metadata": {
        "id": "_HilGPw93f_E"
      },
      "source": [
        "Kami mendapatkan semua kata unik dari setiap tweet. Kami hanya akan mempertimbangkan kata-kata yang digunakan lebih dari 4 kali."
      ]
    },
    {
      "cell_type": "code",
      "metadata": {
        "colab": {
          "base_uri": "https://localhost:8080/"
        },
        "id": "g7Q_dN3E3f_E",
        "outputId": "0eba427d-c5d9-4b09-da7c-5f8456f77b79"
      },
      "source": [
        "all_text = ' '.join(df.tweet.values)\n",
        "words = all_text.split()\n",
        "u_words = Counter(words).most_common()\n",
        "# we will only consider words that have been used more than 4 times\n",
        "u_words = [word[0] for word in u_words if word[1]>4] \n",
        "# create the dictionary\n",
        "word2num = dict(zip(u_words,range(len(u_words))))\n",
        "word2num['<Other>'] = len(u_words)\n",
        "num2word = dict(zip(word2num.values(), word2num.keys()))\n",
        "\n",
        "int_text = [[word2num[word] if word in word2num else len(u_words) for word in Review.split()] for Review in df.tweet.values]\n",
        "\n",
        "print('The number of unique words are: ', len(u_words))\n",
        "print('The first tweet looks like this: ')\n",
        "print(int_text[0][:20])"
      ],
      "execution_count": 16,
      "outputs": [
        {
          "output_type": "stream",
          "text": [
            "The number of unique words are:  348\n",
            "The first tweet looks like this: \n",
            "[5, 348, 348, 348, 283, 348, 348, 348, 0, 21, 44, 16]\n"
          ],
          "name": "stdout"
        }
      ]
    },
    {
      "cell_type": "code",
      "metadata": {
        "colab": {
          "base_uri": "https://localhost:8080/",
          "height": 280
        },
        "id": "vcWJRJY03f_E",
        "outputId": "a7d32151-d0e8-4cb4-e2b9-d1de7caae6d1"
      },
      "source": [
        "plt.hist([len(t) for t in int_text],30)\n",
        "plt.xlabel('tweet length')\n",
        "plt.ylabel('number of tweets')\n",
        "plt.show()"
      ],
      "execution_count": 17,
      "outputs": [
        {
          "output_type": "display_data",
          "data": {
            "image/png": "[encoded data removed]",
            "text/plain": [
              "<Figure size 432x288 with 1 Axes>"
            ]
          },
          "metadata": {
            "tags": [],
            "needs_background": "light"
          }
        }
      ]
    },
    {
      "cell_type": "code",
      "metadata": {
        "colab": {
          "base_uri": "https://localhost:8080/"
        },
        "id": "8Gpn_U5d3f_E",
        "outputId": "c079a207-f5c8-46c5-a6d1-11ba628345c4"
      },
      "source": [
        "print('The number of tweets greater than 25 in length is: ', np.sum(np.array([len(t)>25 for t in int_text])))"
      ],
      "execution_count": 18,
      "outputs": [
        {
          "output_type": "stream",
          "text": [
            "The number of tweets greater than 25 in length is:  4\n"
          ],
          "name": "stdout"
        }
      ]
    },
    {
      "cell_type": "code",
      "metadata": {
        "id": "rXvLRJRa3f_E"
      },
      "source": [
        "num2word[len(word2num)] = '<PAD>'\n",
        "word2num['<PAD>'] = len(word2num)\n",
        "\n",
        "for i, t in enumerate(int_text):\n",
        "    if len(t)<25:\n",
        "        int_text[i] = [word2num['<PAD>']]*(25-len(t)) + t\n",
        "    elif len(t)>25:\n",
        "        int_text[i] = t[:25]\n",
        "    else:\n",
        "        continue\n",
        "\n",
        "x = np.array(int_text)\n",
        "y = df.label.values\n",
        "\n",
        "# split data for train/test crossover\n",
        "X_train, X_test, y_train, y_test = train_test_split(x, y, test_size=0.1, random_state=42)"
      ],
      "execution_count": 19,
      "outputs": []
    },
    {
      "cell_type": "markdown",
      "metadata": {
        "id": "-c3fPwM23f_E"
      },
      "source": [
        "#### Many To One LSTM\n",
        "untuk model ini kita akan menggunakan LSTM many to one. Kami akan menggunakan fungsi binary cross entropy loss dan algoritma adam optimization untuk deep learning yang diturunkan dari estimasi momen adaptif."
      ]
    },
    {
      "cell_type": "code",
      "metadata": {
        "colab": {
          "base_uri": "https://localhost:8080/"
        },
        "id": "HCtL3W7w3f_E",
        "outputId": "4ddcff6b-1581-4f2f-d10a-4ea86b8149df"
      },
      "source": [
        "model = Sequential()\n",
        "model.add(Embedding(len(word2num), 32)) # , batch_size=batch_size\n",
        "model.add(LSTM(64))\n",
        "model.add(Dense(1, activation='sigmoid'))\n",
        "\n",
        "model.compile(loss='binary_crossentropy', optimizer='adam', metrics=['accuracy'])\n",
        "model.summary()"
      ],
      "execution_count": 20,
      "outputs": [
        {
          "output_type": "stream",
          "text": [
            "Model: \"sequential\"\n",
            "_________________________________________________________________\n",
            "Layer (type)                 Output Shape              Param #   \n",
            "=================================================================\n",
            "embedding (Embedding)        (None, None, 32)          11200     \n",
            "_________________________________________________________________\n",
            "lstm (LSTM)                  (None, 64)                24832     \n",
            "_________________________________________________________________\n",
            "dense (Dense)                (None, 1)                 65        \n",
            "=================================================================\n",
            "Total params: 36,097\n",
            "Trainable params: 36,097\n",
            "Non-trainable params: 0\n",
            "_________________________________________________________________\n"
          ],
          "name": "stdout"
        }
      ]
    },
    {
      "cell_type": "code",
      "metadata": {
        "colab": {
          "base_uri": "https://localhost:8080/"
        },
        "id": "GyBbJC2z3f_F",
        "outputId": "1e8f5c9a-611d-4c13-a153-269bbb582a08"
      },
      "source": [
        "X_train.shape"
      ],
      "execution_count": 21,
      "outputs": [
        {
          "output_type": "execute_result",
          "data": {
            "text/plain": [
              "(641, 25)"
            ]
          },
          "metadata": {
            "tags": []
          },
          "execution_count": 21
        }
      ]
    },
    {
      "cell_type": "code",
      "metadata": {
        "colab": {
          "base_uri": "https://localhost:8080/"
        },
        "id": "8AYe5VUR3f_F",
        "outputId": "738b2b10-c558-48ad-e10e-c7e9455f3e28"
      },
      "source": [
        "batch_size = 128\n",
        "model.fit(X_train, y_train, batch_size=batch_size, epochs=2, verbose=1)"
      ],
      "execution_count": 22,
      "outputs": [
        {
          "output_type": "stream",
          "text": [
            "Epoch 1/2\n",
            "6/6 [==============================] - 0s 25ms/step - loss: 0.6888 - accuracy: 0.5741\n",
            "Epoch 2/2\n",
            "6/6 [==============================] - 0s 26ms/step - loss: 0.6721 - accuracy: 0.6318\n"
          ],
          "name": "stdout"
        },
        {
          "output_type": "execute_result",
          "data": {
            "text/plain": [
              "<tensorflow.python.keras.callbacks.History at 0x7fc3fb631828>"
            ]
          },
          "metadata": {
            "tags": []
          },
          "execution_count": 22
        }
      ]
    },
    {
      "cell_type": "markdown",
      "metadata": {
        "id": "ct_o9iG03f_F"
      },
      "source": [
        "Nilai pertama di bawah ini adalah loss rate, sedangkan nilai kedua adalah metrik akurasi yang dihitung dengan keras.."
      ]
    },
    {
      "cell_type": "code",
      "metadata": {
        "colab": {
          "base_uri": "https://localhost:8080/"
        },
        "id": "xJHSuGlt3f_F",
        "outputId": "889c1337-9f1f-47e4-9657-5ef34b98548c"
      },
      "source": [
        "model.evaluate(X_test, y_test, batch_size=batch_size) # loss value & accuracy"
      ],
      "execution_count": 23,
      "outputs": [
        {
          "output_type": "stream",
          "text": [
            "1/1 [==============================] - 0s 1ms/step - loss: 0.6501 - accuracy: 0.6667\n"
          ],
          "name": "stdout"
        },
        {
          "output_type": "execute_result",
          "data": {
            "text/plain": [
              "[0.6500728130340576, 0.6666666865348816]"
            ]
          },
          "metadata": {
            "tags": []
          },
          "execution_count": 23
        }
      ]
    },
    {
      "cell_type": "markdown",
      "metadata": {
        "id": "aWHTF4rN3f_F"
      },
      "source": [
        "nilai akurasi pada test tergolong rendah yaitu 0.6320.Mari kita hitung skor F1 selama test split dengan sci-kit."
      ]
    },
    {
      "cell_type": "code",
      "metadata": {
        "colab": {
          "base_uri": "https://localhost:8080/"
        },
        "id": "x4TwRMoK3f_F",
        "outputId": "35cee178-b836-4f8c-e1b4-4150f5e409bc"
      },
      "source": [
        "from sklearn.metrics import classification_report\n",
        "print(classification_report(y_test, np.round(model.predict(X_test))))\n",
        "y_test.shape"
      ],
      "execution_count": 24,
      "outputs": [
        {
          "output_type": "stream",
          "text": [
            "              precision    recall  f1-score   support\n",
            "\n",
            "           0       0.67      1.00      0.80        48\n",
            "           1       0.00      0.00      0.00        24\n",
            "\n",
            "    accuracy                           0.67        72\n",
            "   macro avg       0.33      0.50      0.40        72\n",
            "weighted avg       0.44      0.67      0.53        72\n",
            "\n"
          ],
          "name": "stdout"
        },
        {
          "output_type": "stream",
          "text": [
            "/usr/local/lib/python3.6/dist-packages/sklearn/metrics/_classification.py:1272: UndefinedMetricWarning: Precision and F-score are ill-defined and being set to 0.0 in labels with no predicted samples. Use `zero_division` parameter to control this behavior.\n",
            "  _warn_prf(average, modifier, msg_start, len(result))\n"
          ],
          "name": "stderr"
        },
        {
          "output_type": "execute_result",
          "data": {
            "text/plain": [
              "(72,)"
            ]
          },
          "metadata": {
            "tags": []
          },
          "execution_count": 24
        }
      ]
    },
    {
      "cell_type": "markdown",
      "metadata": {
        "id": "DkfWy4rH3f_F"
      },
      "source": [
        "Prediksi untuk satu tweet terlihat seperti ini"
      ]
    },
    {
      "cell_type": "code",
      "metadata": {
        "colab": {
          "base_uri": "https://localhost:8080/"
        },
        "id": "k7Dwhods3f_F",
        "outputId": "302114ba-a4d1-488c-a9a3-c05543c6cca6"
      },
      "source": [
        "X_test[0,:]"
      ],
      "execution_count": 25,
      "outputs": [
        {
          "output_type": "execute_result",
          "data": {
            "text/plain": [
              "array([349, 349, 349, 349, 349, 349, 349, 349, 349, 349, 349, 349,   5,\n",
              "       348, 348,  64,  16, 312, 348, 348, 348, 348, 348, 348,   6])"
            ]
          },
          "metadata": {
            "tags": []
          },
          "execution_count": 25
        }
      ]
    },
    {
      "cell_type": "code",
      "metadata": {
        "colab": {
          "base_uri": "https://localhost:8080/"
        },
        "id": "WRaf1Ea33f_F",
        "outputId": "c72ae4bf-a3b8-4c1d-df6b-1008eeb02e9f"
      },
      "source": [
        "model.predict(X_test[0][None,:])"
      ],
      "execution_count": 26,
      "outputs": [
        {
          "output_type": "execute_result",
          "data": {
            "text/plain": [
              "array([[0.4149611]], dtype=float32)"
            ]
          },
          "metadata": {
            "tags": []
          },
          "execution_count": 26
        }
      ]
    },
    {
      "cell_type": "code",
      "metadata": {
        "colab": {
          "base_uri": "https://localhost:8080/"
        },
        "id": "bXgH0KZg3f_F",
        "outputId": "9ede38fe-f89a-40fc-86f1-7445a0911d5e"
      },
      "source": [
        "y_test[0]"
      ],
      "execution_count": 27,
      "outputs": [
        {
          "output_type": "execute_result",
          "data": {
            "text/plain": [
              "0"
            ]
          },
          "metadata": {
            "tags": []
          },
          "execution_count": 27
        }
      ]
    },
    {
      "cell_type": "markdown",
      "metadata": {
        "id": "B4wICM3o3f_G"
      },
      "source": [
        "Mari kita coba membuat model lain untuk perbandingan."
      ]
    },
    {
      "cell_type": "markdown",
      "metadata": {
        "id": "eRqDgybR3f_G"
      },
      "source": [
        "#### Multinomial Naive Bayes With Tf-Idf Vectors & SVM with balanced class weights\n"
      ]
    },
    {
      "cell_type": "code",
      "metadata": {
        "colab": {
          "base_uri": "https://localhost:8080/"
        },
        "id": "7zCemgba3f_G",
        "outputId": "f2ba5ee6-5692-4208-fa89-3ea196e13e1c"
      },
      "source": [
        "from sklearn.feature_extraction.text import CountVectorizer, TfidfTransformer\n",
        "from sklearn.model_selection import learning_curve,GridSearchCV\n",
        "from sklearn.metrics import classification_report\n",
        "from sklearn.naive_bayes import MultinomialNB\n",
        "from sklearn.pipeline import Pipeline\n",
        "from sklearn.svm import LinearSVC\n",
        "\n",
        "X_train, X_test, y_train, y_test = train_test_split(df.tweet, df.label, test_size=0.33,\n",
        "                                                    random_state=5)\n",
        "\n",
        "# Pipeline for multinomial naive Bayes\n",
        "mnb = Pipeline([('vect', CountVectorizer(lowercase=False)),\n",
        "                ('tfidf', TfidfTransformer()),\n",
        "                ('clf', MultinomialNB())\n",
        "               ])\n",
        "\n",
        "\n",
        "# Pipeline for polynomial support vector machine with balanced class weights\n",
        "svm = Pipeline([('vect', CountVectorizer(lowercase=False)),\n",
        "                ('tfidf', TfidfTransformer()),\n",
        "                ('clf', LinearSVC(C=0.1, penalty='l2', class_weight='balanced'))\n",
        "               ])\n",
        "\n",
        "# Grid search parameters\n",
        "param_grid = [{'vect__binary': [True],\n",
        "               'vect__ngram_range': [(1, 1), (1, 2)],\n",
        "               'tfidf__use_idf': [True, False]\n",
        "              },\n",
        "              {'vect__binary': [False],\n",
        "               'vect__ngram_range': [(1, 1), (1, 2)],\n",
        "               'tfidf__use_idf': [True, False]\n",
        "              }\n",
        "             ]\n",
        "\n",
        "# Find best parameters for MNB\n",
        "gs_mnb = GridSearchCV(mnb, param_grid)\n",
        "gs_mnb.fit(X_train, y_train)\n",
        "print('\\nMNB best params:\\n', gs_mnb.best_params_)\n",
        "\n",
        "# Find best parameters for SVM\n",
        "gs_svm = GridSearchCV(svm, param_grid)\n",
        "gs_svm.fit(X_train, y_train)\n",
        "print('\\nSVM best params:\\n', gs_svm.best_params_)\n",
        "\n",
        "# Print accuracy\n",
        "print('\\nMNB test result:\\n', classification_report(y_test, gs_mnb.predict(X_test)))\n",
        "print('\\nSVM test result:\\n', classification_report(y_test, gs_svm.predict(X_test)))"
      ],
      "execution_count": 28,
      "outputs": [
        {
          "output_type": "stream",
          "text": [
            "\n",
            "MNB best params:\n",
            " {'tfidf__use_idf': True, 'vect__binary': True, 'vect__ngram_range': (1, 1)}\n",
            "\n",
            "SVM best params:\n",
            " {'tfidf__use_idf': True, 'vect__binary': False, 'vect__ngram_range': (1, 1)}\n",
            "\n",
            "MNB test result:\n",
            "               precision    recall  f1-score   support\n",
            "\n",
            "           0       0.71      1.00      0.83       144\n",
            "           1       1.00      0.35      0.52        92\n",
            "\n",
            "    accuracy                           0.75       236\n",
            "   macro avg       0.85      0.67      0.67       236\n",
            "weighted avg       0.82      0.75      0.71       236\n",
            "\n",
            "\n",
            "SVM test result:\n",
            "               precision    recall  f1-score   support\n",
            "\n",
            "           0       0.86      0.92      0.89       144\n",
            "           1       0.85      0.76      0.80        92\n",
            "\n",
            "    accuracy                           0.86       236\n",
            "   macro avg       0.86      0.84      0.85       236\n",
            "weighted avg       0.86      0.86      0.85       236\n",
            "\n"
          ],
          "name": "stdout"
        }
      ]
    },
    {
      "cell_type": "code",
      "metadata": {
        "colab": {
          "base_uri": "https://localhost:8080/"
        },
        "id": "3ZYymHZE3f_G",
        "outputId": "93616b72-8341-4eaa-f379-edb3e00264a9"
      },
      "source": [
        "from sklearn import metrics\n",
        "print('MNB Accuracy: ', metrics.accuracy_score(y_test, gs_mnb.predict(X_test)))\n",
        "print('SVM Accuracy: ', metrics.accuracy_score(y_test, gs_svm.predict(X_test)))      "
      ],
      "execution_count": 29,
      "outputs": [
        {
          "output_type": "stream",
          "text": [
            "MNB Accuracy:  0.7457627118644068\n",
            "SVM Accuracy:  0.8559322033898306\n"
          ],
          "name": "stdout"
        }
      ]
    },
    {
      "cell_type": "markdown",
      "metadata": {
        "id": "rLuvMPTW3f_G"
      },
      "source": [
        "## Section 3: Comparing Results"
      ]
    },
    {
      "cell_type": "code",
      "metadata": {
        "id": "JkF17tKp3f_G"
      },
      "source": [
        "def plot_confusion_matrix(cm,\n",
        "                          target_names,\n",
        "                          title='Confusion matrix',\n",
        "                          cmap=None,\n",
        "                          normalize=True):\n",
        "    \"\"\"\n",
        "    given a sklearn confusion matrix (cm), make a nice plot\n",
        "\n",
        "    Arguments\n",
        "    ---------\n",
        "    cm:           confusion matrix from sklearn.metrics.confusion_matrix\n",
        "\n",
        "    target_names: given classification classes such as [0, 1, 2]\n",
        "                  the class names, for example: ['high', 'medium', 'low']\n",
        "\n",
        "    title:        the text to display at the top of the matrix\n",
        "\n",
        "    cmap:         the gradient of the values displayed from matplotlib.pyplot.cm\n",
        "                  see http://matplotlib.org/examples/color/colormaps_reference.html\n",
        "                  plt.get_cmap('jet') or plt.cm.Blues\n",
        "\n",
        "    normalize:    If False, plot the raw numbers\n",
        "                  If True, plot the proportions\n",
        "\n",
        "    Usage\n",
        "    -----\n",
        "    plot_confusion_matrix(cm           = cm,                  # confusion matrix created by\n",
        "                                                              # sklearn.metrics.confusion_matrix\n",
        "                          normalize    = True,                # show proportions\n",
        "                          target_names = y_labels_vals,       # list of names of the classes\n",
        "                          title        = best_estimator_name) # title of graph\n",
        "\n",
        "    Citiation\n",
        "    ---------\n",
        "    http://scikit-learn.org/stable/auto_examples/model_selection/plot_confusion_matrix.html\n",
        "\n",
        "    \"\"\"\n",
        "    import itertools\n",
        "\n",
        "    accuracy = np.trace(cm) / float(np.sum(cm))\n",
        "    misclass = 1 - accuracy\n",
        "\n",
        "    if cmap is None:\n",
        "        cmap = plt.get_cmap('Blues')\n",
        "\n",
        "    plt.figure(figsize=(8, 6))\n",
        "    plt.imshow(cm, interpolation='nearest', cmap=cmap)\n",
        "    plt.title(title)\n",
        "    plt.colorbar()\n",
        "\n",
        "    if target_names is not None:\n",
        "        tick_marks = np.arange(len(target_names))\n",
        "        plt.xticks(tick_marks, target_names, rotation=45)\n",
        "        plt.yticks(tick_marks, target_names)\n",
        "\n",
        "    if normalize:\n",
        "        cm = cm.astype('float') / cm.sum(axis=1)[:, np.newaxis]\n",
        "\n",
        "\n",
        "    thresh = cm.max() / 1.5 if normalize else cm.max() / 2\n",
        "    for i, j in itertools.product(range(cm.shape[0]), range(cm.shape[1])):\n",
        "        if normalize:\n",
        "            plt.text(j, i, \"{:0.4f}\".format(cm[i, j]),\n",
        "                     horizontalalignment=\"center\",\n",
        "                     color=\"white\" if cm[i, j] > thresh else \"black\")\n",
        "        else:\n",
        "            plt.text(j, i, \"{:,}\".format(cm[i, j]),\n",
        "                     horizontalalignment=\"center\",\n",
        "                     color=\"white\" if cm[i, j] > thresh else \"black\")\n",
        "\n",
        "\n",
        "    plt.tight_layout()\n",
        "    plt.ylabel('True label')\n",
        "    plt.xlabel('Predicted label\\naccuracy={:0.4f}; misclass={:0.4f}'.format(accuracy, misclass))\n",
        "    plt.show()"
      ],
      "execution_count": 30,
      "outputs": []
    },
    {
      "cell_type": "code",
      "metadata": {
        "scrolled": false,
        "colab": {
          "base_uri": "https://localhost:8080/",
          "height": 671
        },
        "id": "Q5UY8zFj3f_G",
        "outputId": "47558eea-f0c6-40f2-f424-8fb558217c9b"
      },
      "source": [
        "pred = gs_mnb.predict(X_test)\n",
        "cm = metrics.confusion_matrix(y_test, pred, labels=[0, 1])\n",
        "mt = metrics.matthews_corrcoef(y_test, pred)\n",
        "print('Classification report for MNB\\n')\n",
        "print(classification_report(y_test, pred))\n",
        "\n",
        "plot_confusion_matrix(cm, [0,1])\n",
        "print('Matthews correlation coefficient (MCC): ', mt)"
      ],
      "execution_count": 31,
      "outputs": [
        {
          "output_type": "stream",
          "text": [
            "Classification report for MNB\n",
            "\n",
            "              precision    recall  f1-score   support\n",
            "\n",
            "           0       0.71      1.00      0.83       144\n",
            "           1       1.00      0.35      0.52        92\n",
            "\n",
            "    accuracy                           0.75       236\n",
            "   macro avg       0.85      0.67      0.67       236\n",
            "weighted avg       0.82      0.75      0.71       236\n",
            "\n"
          ],
          "name": "stdout"
        },
        {
          "output_type": "display_data",
          "data": {
            "image/png": "[encoded data removed]",
            "text/plain": [
              "<Figure size 576x432 with 2 Axes>"
            ]
          },
          "metadata": {
            "tags": [],
            "needs_background": "light"
          }
        },
        {
          "output_type": "stream",
          "text": [
            "Matthews correlation coefficient (MCC):  0.4955040834092003\n"
          ],
          "name": "stdout"
        }
      ]
    },
    {
      "cell_type": "code",
      "metadata": {
        "colab": {
          "base_uri": "https://localhost:8080/",
          "height": 671
        },
        "id": "ak57TIIY3f_G",
        "outputId": "39fcc803-e814-409d-b50f-47970ce0e30e"
      },
      "source": [
        "pred = gs_svm.predict(X_test)\n",
        "cm = metrics.confusion_matrix(y_test, pred, labels=[0, 1])\n",
        "mt = metrics.matthews_corrcoef(y_test, pred)\n",
        "print('Classification report for SVM\\n')\n",
        "print(classification_report(y_test, pred))\n",
        "\n",
        "plot_confusion_matrix(cm, [0,1])\n",
        "print('Matthews correlation coefficient (MCC): ', mt)                              "
      ],
      "execution_count": 32,
      "outputs": [
        {
          "output_type": "stream",
          "text": [
            "Classification report for SVM\n",
            "\n",
            "              precision    recall  f1-score   support\n",
            "\n",
            "           0       0.86      0.92      0.89       144\n",
            "           1       0.85      0.76      0.80        92\n",
            "\n",
            "    accuracy                           0.86       236\n",
            "   macro avg       0.86      0.84      0.85       236\n",
            "weighted avg       0.86      0.86      0.85       236\n",
            "\n"
          ],
          "name": "stdout"
        },
        {
          "output_type": "display_data",
          "data": {
            "image/png": "[encoded data removed]",
            "text/plain": [
              "<Figure size 576x432 with 2 Axes>"
            ]
          },
          "metadata": {
            "tags": [],
            "needs_background": "light"
          }
        },
        {
          "output_type": "stream",
          "text": [
            "Matthews correlation coefficient (MCC):  0.6939695223311734\n"
          ],
          "name": "stdout"
        }
      ]
    },
    {
      "cell_type": "markdown",
      "metadata": {
        "id": "Krpuv_Ts3f_G"
      },
      "source": [
        "## Section 4: Conclusion\n",
        "\n",
        "Dengan membandingkan skor F1 & MCC (urutan yang sama) kami melihat bahwa model SVM lebih baik jika dibandingkan dengan MNB\n",
        "\n",
        "Dari clasification report dan confusion matrix kita dapat melihat bahwa presisi untuk tweet yang tidak mengandung hate speech (Non_HS)  (TP / (TP + FP)) adalah tinggi yaitu 0.86\n"
      ]
    }
  ]
}